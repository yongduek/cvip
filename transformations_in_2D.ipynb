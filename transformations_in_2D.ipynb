{
 "cells": [
  {
   "cell_type": "code",
   "execution_count": 4,
   "metadata": {},
   "outputs": [],
   "source": [
    "%matplotlib inline\n",
    "import matplotlib as mpl\n",
    "mpl.rcParams['figure.figsize'] = (10,8)\n",
    "import matplotlib.pyplot as plt\n",
    "import numpy as np\n",
    "import cv2 as cv"
   ]
  },
  {
   "cell_type": "markdown",
   "metadata": {},
   "source": [
    "# Transformations in 2D\n",
    "\n",
    "- Refer to Chapter 2.4 A hierarchy of transformation in [Hartley's book: Multiple View Geometry in Computer Vision 2nd Edition](https://www.amazon.com/Multiple-View-Geometry-Computer-Vision/dp/0521540518)\n",
    "\n",
    "- Homogeneous coordinate representation\n",
    "- Euclidean Transformation: $R$, $t$\n",
    "    - $H_E = R T$\n",
    "    $$\n",
    "        R = \\begin{bmatrix}  \\cos\\theta & -\\sin\\theta & 0 \\\\ \\sin\\theta & \\cos\\theta & 0 \\\\ 0 & 0 & 1 \\end{bmatrix}\n",
    "        \\quad\n",
    "        T = \\begin{bmatrix}  1 & 0 & t_x \\\\ 0 & 1 & t_x \\\\ 0 & 0 & 1 \\end{bmatrix}\n",
    "    $$\n",
    "\n",
    "- Similarity Transformation: $s$, $R$, $t$\n",
    "    $$\n",
    "        S_s = \\begin{bmatrix}  s & 0 & 0 \\\\ 0 & s & 0 \\\\ 0 & 0 & 1 \\end{bmatrix}\n",
    "    $$\n",
    "- Affine Transformation: $A = \\{ s, R, t, h\\}$\n",
    "    $$\n",
    "        T_A =  R T S_s S_h\n",
    "    $$\n",
    "\n",
    "    - $h$: parameter for shear transformation \n",
    "    $$\n",
    "        S_h = \\begin{bmatrix}  1 & h & 0 \\\\ 0 & 1 & 0 \\\\ 0 & 0 & 1 \\end{bmatrix}\n",
    "    $$\n",
    "- Projective (Perspective) Transformation:\n",
    "    $$\n",
    "        H = R T S_s S_h P\n",
    "    $$\n",
    "    where\n",
    "    $$\n",
    "        P = \\begin{bmatrix}  1 & 0 & 0 \\\\ 0 & 1 & 0 \\\\ v_1 & v_2 & 1 \\end{bmatrix}\n",
    "    $$"
   ]
  },
  {
   "cell_type": "markdown",
   "metadata": {},
   "source": [
    "## Bilinear Interpolation"
   ]
  },
  {
   "cell_type": "markdown",
   "metadata": {},
   "source": [
    "## Forward Transformation"
   ]
  },
  {
   "cell_type": "markdown",
   "metadata": {},
   "source": [
    "## Backward Transformation"
   ]
  },
  {
   "cell_type": "markdown",
   "metadata": {},
   "source": [
    "## Computation of the Transformation Matrix\n",
    "When point correspondences are given instead of the transformation matrix, we need to find the transformation itself to perform the image mapping and interpolation.\n",
    "\n",
    "1. One point correspondence determines the translation\n",
    "2. Two point correspondences may determine: Euclidean, Similarity, or Euclidean+Shearing\n",
    "3. Three point correspondences determine the affine transformaton\n",
    "4. Four point correspondences determine the projective transformaiton"
   ]
  },
  {
   "cell_type": "markdown",
   "metadata": {},
   "source": [
    "### Euclidean Transformation, Step-by-step Computation\n",
    "- Given two point correspondences, find two canonical transformations that transfrom each of the point sets onto the $x$-axis.\n",
    "- Apply inverse transformation to find the target transformation"
   ]
  },
  {
   "cell_type": "markdown",
   "metadata": {},
   "source": [
    "### Affine Transformation and Texture Mapping\n",
    "\n",
    "#### From a triangle to the canonical triangle:\n",
    "- The canonical triangle: $\\{ (0,0), (1,0), (0,1) \\}$\n",
    "- Given a triangle $\\{ p_0, p_1, p_2 \\}$\n",
    "    1. $p_0$ goes to the the origin. This determines $\\mathbf{H}_0$, and we transform the other two points.\n",
    "    2. $p_1$ (which is obtained by $\\mathbf{H}_0p_1$) goes to $x$-axis by rotation $\\mathbf{H}_1 = \\mathbf{R}(\\theta)$ where \n",
    "        $$\n",
    "            \\theta = -\\mathrm{atan2}(p_{1y}, p_{1x})\n",
    "        $$\n",
    "    3. $x_1$ goes to $1$ by scaling $s_x = 1/x_1$:\n",
    "        $$\n",
    "            \\mathbf{H}_2 = \\begin{bmatrix}  s_x & 0 & 0 \\\\ 0 & 1 & 0 \\\\ 0 & 0 & 1 \\end{bmatrix}\n",
    "        $$\n",
    "    4. Shearing: $(x_2, y_2)$ goes to $(0, y_2)$ by\n",
    "        $$\n",
    "            \\mathbf{H}_3 = \\begin{bmatrix}  1 & 0 & 0 \\\\ h & 1 & 0 \\\\ 0 & 0 & 1 \\end{bmatrix}\n",
    "        $$\n",
    "        where $h$ is obtained from the equation:\n",
    "        $$\n",
    "            x_2 h + y_2 = 0 \\quad\\Rightarrow\\quad h = - \\frac{y_2}{x_2}\n",
    "        $$\n",
    "    5. Finally, $y_2$ goes to $1$ by scaling:\n",
    "        $$\n",
    "            \\mathbf{H}_4 = \\begin{bmatrix}  1 & 0 & 0 \\\\ 0 & 1/y_2 & 0 \\\\ 0 & 0 & 1 \\end{bmatrix}\n",
    "        $$\n",
    "\n",
    "    * Total Transformation:\n",
    "        $$\n",
    "            \\mathbf{H} = \\mathbf{H}_4 \\cdots \\mathbf{H}_0\n",
    "        $$\n",
    "        \n",
    "- Compute the two series of transformations for $\\{ p_0, p_1, p_2 \\}$ and $\\{ q_0, q_1, q_2 \\}$, then $H: p \\Rightarrow q$ is given by:\n",
    "    $$\n",
    "        \\mathbf{H}_{p\\Rightarrow q} = \\mathbf{H}_q^{-1}  \\mathbf{H}_p\n",
    "    $$\n",
    "    where the inverse of  is given by the multiplication of inverses in the reversed order:\n",
    "    $$\n",
    "        \\mathbf{H} = \\mathbf{H}^{-1}_0 \\cdots \\mathbf{H}_4^{-1}\n",
    "    $$"
   ]
  },
  {
   "cell_type": "markdown",
   "metadata": {},
   "source": [
    "**Q.** Prove the following for the inverse of Shearing transformation:\n",
    "$$\n",
    "    \\begin{bmatrix}  1 & 0 & 0 \\\\ h & 1 & 0 \\\\ 0 & 0 & 1 \\end{bmatrix}^{-1}\n",
    "    =\n",
    "    \\begin{bmatrix}  1 & 0 & 0 \\\\ -h & 1 & 0 \\\\ 0 & 0 & 1 \\end{bmatrix}\n",
    "$$"
   ]
  },
  {
   "cell_type": "markdown",
   "metadata": {},
   "source": [
    "**Q.** Apply the steps to $\\{ (3,4), (6,7), (3,9) \\}$. Plot the triangle at each stage."
   ]
  },
  {
   "cell_type": "code",
   "execution_count": 35,
   "metadata": {},
   "outputs": [
    {
     "name": "stdout",
     "output_type": "stream",
     "text": [
      "[[3 4 1]\n",
      " [6 7 1]\n",
      " [2 9 1]]\n"
     ]
    }
   ],
   "source": [
    "# vertices of the input triangle\n",
    "p = np.array( [ [3,4,1], [6,7,1], [2,9,1] ])\n",
    "\n",
    "print (p)"
   ]
  },
  {
   "cell_type": "code",
   "execution_count": 28,
   "metadata": {},
   "outputs": [
    {
     "name": "stdout",
     "output_type": "stream",
     "text": [
      "[[3 4 1]\n",
      " [6 7 1]\n",
      " [2 9 1]\n",
      " [3 4 1]]\n"
     ]
    },
    {
     "data": {
      "image/png": "[encoded data removed]",
      "text/plain": [
       "<Figure size 720x576 with 1 Axes>"
      ]
     },
     "metadata": {
      "needs_background": "light"
     },
     "output_type": "display_data"
    }
   ],
   "source": [
    "def drawTriangle(pnts, title=None):\n",
    "    pnts = pnts.copy()\n",
    "    pnts = np.vstack ( (pnts, pnts[0]) )\n",
    "    print (pnts)\n",
    "    plt.plot (pnts[:-1, 0], pnts[:-1,1], pnts[1:, 0], pnts[1:,1], marker='o', color='blue')\n",
    "    if title is not None:\n",
    "        plt.title(title)\n",
    "    plt.show()\n",
    "#\n",
    "\n",
    "drawTriangle(p, 'initial shape')"
   ]
  },
  {
   "cell_type": "markdown",
   "metadata": {},
   "source": [
    "### Homography Transformation and quadrangle/quadrilateral mapping"
   ]
  },
  {
   "cell_type": "code",
   "execution_count": null,
   "metadata": {},
   "outputs": [],
   "source": []
  },
  {
   "cell_type": "markdown",
   "metadata": {},
   "source": [
    "## PyTorch Implementation for Image Mapping"
   ]
  },
  {
   "cell_type": "code",
   "execution_count": null,
   "metadata": {},
   "outputs": [],
   "source": []
  },
  {
   "cell_type": "code",
   "execution_count": null,
   "metadata": {},
   "outputs": [],
   "source": []
  },
  {
   "cell_type": "code",
   "execution_count": null,
   "metadata": {},
   "outputs": [],
   "source": []
  },
  {
   "cell_type": "markdown",
   "metadata": {},
   "source": [
    "---\n",
    "End."
   ]
  }
 ],
 "metadata": {
  "kernelspec": {
   "display_name": "Python 3",
   "language": "python",
   "name": "python3"
  },
  "language_info": {
   "codemirror_mode": {
    "name": "ipython",
    "version": 3
   },
   "file_extension": ".py",
   "mimetype": "text/x-python",
   "name": "python",
   "nbconvert_exporter": "python",
   "pygments_lexer": "ipython3",
   "version": "3.7.0"
  }
 },
 "nbformat": 4,
 "nbformat_minor": 4
}
