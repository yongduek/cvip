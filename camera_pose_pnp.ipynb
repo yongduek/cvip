{
 "cells": [
  {
   "cell_type": "markdown",
   "metadata": {},
   "source": [
    "# Camera Pose: Perspective n Point Algorithm\n",
    "\n",
    "**https://en.wikipedia.org/wiki/Perspective-n-Point**\n",
    "\n",
    "- Perspective-n-Point [1] is the problem of estimating the pose of a calibrated camera given a set of n 3D points in the world and their corresponding 2D projections in the image. \n",
    "- The camera pose consists of 6 degrees-of-freedom (DOF) which are made up of the rotation (roll, pitch, and yaw) and 3D translation of the camera with respect to the world. \n",
    "- This problem originates from camera calibration and has many applications in computer vision and other areas, including 3D pose estimation, robotics and augmented reality.[2] \n",
    "- A commonly used solution to the problem exists for n = 3 called P3P, and many solutions are available for the general case of n ≥ 3. \n",
    "- A solution for n = 2 exists if feature orientations are available at the two points.[3] \n",
    "- Implementations of these solutions are also available in open source software: OpenCV\n",
    "\n",
    "[1]  Fischler, M. A.; Bolles, R. C. (1981). \"Random Sample Consensus: A Paradigm for Model Fitting with Applications to Image Analysis and Automated Cartography\". Communications of the ACM. 24 (6): 381–395. doi:10.1145/358669.358692."
   ]
  },
  {
   "cell_type": "markdown",
   "metadata": {},
   "source": [
    "--------------------------------------"
   ]
  },
  {
   "cell_type": "markdown",
   "metadata": {},
   "source": [
    "## Projective Camera with Direct Linear Transformation Algorithm\n",
    "\n",
    "- [HZ book Chapter 7, P.179, p.91]\n",
    "\n",
    "<div>\n",
    "    <img src=\"camcal/hz-eq.7.1.png\" width=\"500\"/>\n",
    "</div>\n",
    "\n",
    "- $P$ has 12 entries, 11 degrees of freedom.\n",
    "- Apply DLT Algorithm (below is for $H$ which is a $3\\times3$ matrix."
   ]
  },
  {
   "cell_type": "markdown",
   "metadata": {},
   "source": [
    "<div>\n",
    "    <img src=\"camcal/hz_dlt_algo.png\" width=\"800\"/>\n",
    "</div>"
   ]
  },
  {
   "cell_type": "markdown",
   "metadata": {},
   "source": [
    "Don't forget to do data **normalization** transformation before any numerical computation. Then post-process the result so that it can be used with the original data (or orginal coordinate system)."
   ]
  },
  {
   "cell_type": "markdown",
   "metadata": {},
   "source": [
    "<div>\n",
    "    <img src=\"camcal/hz_dlt_algo_normalization.png\" width=\"800\"/>\n",
    "</div>"
   ]
  },
  {
   "cell_type": "code",
   "execution_count": null,
   "metadata": {},
   "outputs": [],
   "source": []
  }
 ],
 "metadata": {
  "kernelspec": {
   "display_name": "Python 3",
   "language": "python",
   "name": "python3"
  },
  "language_info": {
   "codemirror_mode": {
    "name": "ipython",
    "version": 3
   },
   "file_extension": ".py",
   "mimetype": "text/x-python",
   "name": "python",
   "nbconvert_exporter": "python",
   "pygments_lexer": "ipython3",
   "version": "3.7.0"
  }
 },
 "nbformat": 4,
 "nbformat_minor": 4
}
